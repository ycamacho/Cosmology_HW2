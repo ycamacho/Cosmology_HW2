{
 "cells": [
  {
   "cell_type": "code",
   "execution_count": 1,
   "metadata": {
    "collapsed": false
   },
   "outputs": [],
   "source": [
    "import matplotlib.pyplot as plt\n",
    "%matplotlib inline\n",
    "import numpy as np\n",
    "from scipy.integrate import odeint\n",
    "import os"
   ]
  },
  {
   "cell_type": "code",
   "execution_count": 2,
   "metadata": {
    "collapsed": false
   },
   "outputs": [],
   "source": [
    "workDir= os.getcwd()\n",
    "outputDir= workDir+'/outputPlots/'"
   ]
  },
  {
   "cell_type": "code",
   "execution_count": 3,
   "metadata": {
    "collapsed": true
   },
   "outputs": [],
   "source": [
    "def lambda_NP(x, tauN):\n",
    "    return (255./(tauN*x**5.))*(12. + 6.*x + x**2.) # Dod Eq. 3.29\n",
    "\n",
    "def tauNeutron(Q, mn0, mn):\n",
    "    if (Q<0):\n",
    "        tauN = 10**10\n",
    "    else:\n",
    "        tauN= 886.7*(mn0/mn)  #*abs(Q/1.294)  # sec; neturon lifetime\n",
    "        \n",
    "    return tauN"
   ]
  },
  {
   "cell_type": "code",
   "execution_count": 4,
   "metadata": {
    "collapsed": false
   },
   "outputs": [],
   "source": [
    "def neutronAbundance(mp, mn, Xn0, title, mn0,\n",
    "                     xEqFactorToPlot= 2.,\n",
    "                     yMin= 10**-5, yMax=10**0,\n",
    "                     savePlots= False, outDir= None, filenameTag= ''):\n",
    "    Q= mn-mp   # MeV\n",
    "    \n",
    "    tauN = tauNeutron(Q, mn0, mn)\n",
    "    \n",
    "    print 'Q= ', Q\n",
    "    print 'tauN= ',tauN\n",
    "    \n",
    "    def H1(Q, gstar= 10.75): # based on Dod Eq. 3.28\n",
    "        DodQ= 1.293\n",
    "        G=  1.13**2*45./(4*np.pi**3.*gstar*DodQ**4)\n",
    "        return np.sqrt(4.*np.pi**3*G*Q**4/45.)*np.sqrt(gstar) \n",
    "    \n",
    "    #print lambda_NP(1)\n",
    "    def dXndx(Xn, x, gstar= 10.75):\n",
    "        factor= x*lambda_NP(x, tauN)*(mp/mn)**(3./2.)/H1(Q, gstar= gstar)\n",
    "        #factor= x*lambdaNP(x)/H1(Q, gstar= gstar)\n",
    "        dXndx = factor*(np.exp(-x) - Xn*(1. + np.exp(-x)))\n",
    "        return dXndx\n",
    "     \n",
    "    # plot T vs. Xn\n",
    "    T = np.logspace(0,-3, 200)\n",
    "    x= Q/T\n",
    "    result = odeint(dXndx, Xn0, x, args= (10.75,))\n",
    "    plt.plot(T, result[:,0], '.', color='b', label= '$X_n$')\n",
    "    plt.plot(T, result[:,0], color='b')\n",
    "    \n",
    "    Xeq= 1./(1+np.exp(Q/T))\n",
    "    #print Xeq\n",
    "    if (xEqFactorToPlot==1.):\n",
    "        label= '$X_{n,EQ}$'\n",
    "    else:\n",
    "        label= '$%.fX_{n,EQ}$'%xEqFactorToPlot\n",
    "    plt.plot(T, xEqFactorToPlot*Xeq, '.', color='g', label= label)\n",
    "    plt.plot(T, xEqFactorToPlot*Xeq, color='g')\n",
    "\n",
    "    #plt.plot(T, np.zeros(len(T))+1., color='k')\n",
    "    plt.gca().invert_xaxis()\n",
    "    plt.xlim(1.3, 0.0005)\n",
    "    plt.ylim(yMin, yMax)\n",
    "    \n",
    "    plt.title(title, fontsize= 18)\n",
    "    fontsize, tickLabelFontSize, legendFontSize= 16, 16, 16\n",
    "    plt.xlabel('T (MeV)', fontsize= fontsize)\n",
    "    plt.ylabel('Fractional Abundance', fontsize= fontsize)\n",
    "    plt.xscale('log')\n",
    "    plt.yscale('log')\n",
    "    plt.tick_params(axis='x', labelsize=tickLabelFontSize)\n",
    "    plt.tick_params(axis='y', labelsize=tickLabelFontSize)\n",
    "    \n",
    "    plt.legend(loc= \"lower right\", fontsize= legendFontSize)\n",
    "    if savePlots:\n",
    "        os.chdir(outDir)\n",
    "        plt.savefig('%sneutronAbundancePlot.pdf'%(filenameTag),bbox_inches='tight', format= 'pdf')\n",
    "        os.chdir(workDir)\n",
    "    plt.show()\n",
    "    \n",
    "    return Q"
   ]
  },
  {
   "cell_type": "code",
   "execution_count": 5,
   "metadata": {
    "collapsed": true
   },
   "outputs": [],
   "source": [
    "mass_n= {}\n",
    "mass_p= {}\n",
    "\n",
    "\n",
    "mass_n[0]= 939.566 # MeV\n",
    "mass_p[0]= 938.272 #MeV\n",
    "\n",
    "mass_n[1]= mass_p[0]\n",
    "mass_p[1]= mass_n[0]\n",
    "\n",
    "mass_n[2]= 2*mass_n[0]\n",
    "mass_p[2]= mass_p[0]\n",
    "\n",
    "mass_n[3]= 1.0002*mass_p[0]\n",
    "mass_p[3]= mass_p[0]\n"
   ]
  },
  {
   "cell_type": "code",
   "execution_count": null,
   "metadata": {
    "collapsed": false
   },
   "outputs": [
    {
     "name": "stdout",
     "output_type": "stream",
     "text": [
      "{0: 939.566, 1: 938.272, 2: 1879.132, 3: 938.4596544} {0: 938.272, 1: 939.566, 2: 938.272, 3: 938.272}\n"
     ]
    }
   ],
   "source": [
    "print mass_n, mass_p"
   ]
  },
  {
   "cell_type": "code",
   "execution_count": null,
   "metadata": {
    "collapsed": false
   },
   "outputs": [
    {
     "name": "stdout",
     "output_type": "stream",
     "text": [
      "Q=  1.294\n",
      "tauN=  886.7\n"
     ]
    },
    {
     "name": "stderr",
     "output_type": "stream",
     "text": [
      "/Users/Humna/lsst/DarwinX86/miniconda2/3.19.0.lsst4/lib/python2.7/site-packages/ipykernel/__main__.py:31: RuntimeWarning: overflow encountered in exp\n"
     ]
    },
    {
     "data": {
      "image/png": "[encoded data removed]",
      "text/plain": [
       "<matplotlib.figure.Figure at 0x108866890>"
      ]
     },
     "metadata": {},
     "output_type": "display_data"
    },
    {
     "name": "stdout",
     "output_type": "stream",
     "text": [
      "Q=  -1.294\n",
      "tauN=  10000000000\n"
     ]
    },
    {
     "name": "stderr",
     "output_type": "stream",
     "text": [
      "/Users/Humna/lsst/DarwinX86/miniconda2/3.19.0.lsst4/lib/python2.7/site-packages/scipy/integrate/odepack.py:218: ODEintWarning: Excess work done on this call (perhaps wrong Dfun type). Run with full_output = 1 to get quantitative information.\n",
      "  warnings.warn(warning_msg, ODEintWarning)\n"
     ]
    },
    {
     "data": {
      "image/png": "[encoded data removed]",
      "text/plain": [
       "<matplotlib.figure.Figure at 0x108fa8850>"
      ]
     },
     "metadata": {},
     "output_type": "display_data"
    },
    {
     "name": "stdout",
     "output_type": "stream",
     "text": [
      "Q=  940.86\n",
      "tauN=  443.35\n"
     ]
    },
    {
     "data": {
      "image/png": "[encoded data removed]",
      "text/plain": [
       "<matplotlib.figure.Figure at 0x108fbdad0>"
      ]
     },
     "metadata": {},
     "output_type": "display_data"
    },
    {
     "name": "stdout",
     "output_type": "stream",
     "text": [
      "Q=  0.1876544\n",
      "tauN=  887.745326391\n"
     ]
    }
   ],
   "source": [
    "Qs= {}\n",
    "for key in mass_n:\n",
    "    factor= 2.\n",
    "    yMin= 10**-5\n",
    "    yMax=10**1\n",
    "    if (key==1):factor= 1.\n",
    "        \n",
    "    Qs[key]= neutronAbundance(mass_p[key], mass_n[key], [0.5], \n",
    "                 title= '$\\mathrm{m_n= %s\\ MeV; m_p= %s \\ MeV}$'%(mass_n[key], mass_p[key]),  mn0= mass_n[0],\n",
    "                 xEqFactorToPlot= factor, yMin= yMin, yMax= yMax,\n",
    "                              savePlots= True, outDir= outputDir, filenameTag= 'Case%.f_'%(key+1))\n",
    "                                                      "
   ]
  },
  {
   "cell_type": "code",
   "execution_count": null,
   "metadata": {
    "collapsed": false
   },
   "outputs": [],
   "source": [
    "Qs"
   ]
  },
  {
   "cell_type": "code",
   "execution_count": null,
   "metadata": {
    "collapsed": true
   },
   "outputs": [],
   "source": [
    "colors= ['b', 'r', 'g']"
   ]
  },
  {
   "cell_type": "code",
   "execution_count": null,
   "metadata": {
    "collapsed": false
   },
   "outputs": [],
   "source": [
    "fig, ax = plt.subplots(1,3)\n",
    "fig.subplots_adjust(wspace=.25)\n",
    "fontsize, tickLabelFontSize, legendFontSize= 18, 16, 16\n",
    "T = np.logspace(0,-3, 200)\n",
    "\n",
    "for key in Qs.keys()[0:3]:\n",
    "    x= Qs[key]/T\n",
    "    tauN= tauNeutron(Qs[key], mass_n[0], mass_n[key])\n",
    "    lambdaNP = lambda_NP(x, tauN)\n",
    "    ax[key].plot(T, lambdaNP, '.', color= colors[key], \n",
    "                 label= '$\\mathrm{m_n= %s\\ MeV; m_p= %s \\ MeV}$'%(mass_n[key], mass_p[key]))\n",
    "    ax[key].plot(T, lambdaNP, color= colors[key],)\n",
    "\n",
    "    ax[key].invert_xaxis()\n",
    "    ax[key].set_xlim(1.3, 0.0005)\n",
    "    ax[key].text(0.5, 0.8,\n",
    "                 '$\\mathrm{m_n= %s\\ MeV}$'%(mass_n[key]), \n",
    "                 horizontalalignment='left',\n",
    "                 verticalalignment='center', fontsize= 18,\n",
    "                 transform = ax[key].transAxes)    \n",
    "    ax[key].text(0.5, 0.9,\n",
    "                 '$\\mathrm{m_p= %s \\ MeV}$'%(mass_p[key]), \n",
    "                 horizontalalignment='left',\n",
    "                 verticalalignment='center', fontsize= 18,\n",
    "                 transform = ax[key].transAxes)\n",
    "    \n",
    "    ax[key].set_xlabel('T (MeV)', fontsize= fontsize)\n",
    "    ax[key].set_ylabel(r'$\\lambda_{np}$', fontsize= fontsize)\n",
    "    ax[key].set_xscale('log')\n",
    "    ax[key].tick_params(axis='x', labelsize=tickLabelFontSize)\n",
    "    ax[key].tick_params(axis='y', labelsize=tickLabelFontSize)\n",
    "fig.set_size_inches(20,5)\n",
    "os.chdir(outputDir)\n",
    "plt.savefig('lambdaNP.pdf',bbox_inches='tight', format= 'pdf')\n",
    "os.chdir(workDir)\n",
    "\n",
    "plt.show()"
   ]
  },
  {
   "cell_type": "code",
   "execution_count": null,
   "metadata": {
    "collapsed": true
   },
   "outputs": [],
   "source": []
  }
 ],
 "metadata": {
  "kernelspec": {
   "display_name": "Python 2",
   "language": "python",
   "name": "python2"
  },
  "language_info": {
   "codemirror_mode": {
    "name": "ipython",
    "version": 2
   },
   "file_extension": ".py",
   "mimetype": "text/x-python",
   "name": "python",
   "nbconvert_exporter": "python",
   "pygments_lexer": "ipython2",
   "version": "2.7.12"
  }
 },
 "nbformat": 4,
 "nbformat_minor": 0
}
